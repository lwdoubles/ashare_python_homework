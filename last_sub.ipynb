{
 "cells": [
  {
   "cell_type": "code",
   "execution_count": 834,
   "metadata": {},
   "outputs": [
    {
     "data": {
      "text/html": [
       "        <script type=\"text/javascript\">\n",
       "        window.PlotlyConfig = {MathJaxConfig: 'local'};\n",
       "        if (window.MathJax) {MathJax.Hub.Config({SVG: {font: \"STIX-Web\"}});}\n",
       "        if (typeof require !== 'undefined') {\n",
       "        require.undef(\"plotly\");\n",
       "        requirejs.config({\n",
       "            paths: {\n",
       "                'plotly': ['https://cdn.plot.ly/plotly-latest.min']\n",
       "            }\n",
       "        });\n",
       "        require(['plotly'], function(Plotly) {\n",
       "            window._Plotly = Plotly;\n",
       "        });\n",
       "        }\n",
       "        </script>\n",
       "        "
      ]
     },
     "metadata": {},
     "output_type": "display_data"
    }
   ],
   "source": [
    "import gc\n",
    "import os\n",
    "from pathlib import Path\n",
    "import random\n",
    "import sys\n",
    "\n",
    "from tqdm import tqdm_notebook as tqdm\n",
    "import numpy as np # linear algebra\n",
    "import pandas as pd # data processing, CSV file I/O (e.g. pd.read_csv)\n",
    "\n",
    "import matplotlib.pyplot as plt\n",
    "import seaborn as sns\n",
    "\n",
    "from IPython.core.display import display, HTML\n",
    "\n",
    "# --- plotly ---\n",
    "from plotly import tools, subplots\n",
    "import plotly.offline as py\n",
    "py.init_notebook_mode(connected=True)\n",
    "import plotly.graph_objs as go\n",
    "import plotly.express as px\n",
    "import plotly.figure_factory as ff\n",
    "\n",
    "# --- models ---\n",
    "from sklearn import preprocessing\n",
    "from sklearn.model_selection import KFold\n",
    "import lightgbm as lgb\n",
    "import xgboost as xgb\n",
    "import catboost as cb\n",
    "\n",
    "from sklearn.metrics import mean_squared_error"
   ]
  },
  {
   "cell_type": "code",
   "execution_count": 835,
   "metadata": {},
   "outputs": [],
   "source": [
    "# Original code from https://www.kaggle.com/gemartin/load-data-reduce-memory-usage by @gemartin\n",
    "# Modified to support timestamp type, categorical type\n",
    "# Modified to add option to use float16 or not. feather format does not support float16.\n",
    "from pandas.api.types import is_datetime64_any_dtype as is_datetime\n",
    "from pandas.api.types import is_categorical_dtype\n",
    "\n",
    "def reduce_mem_usage(df, use_float16=False):\n",
    "    \"\"\" iterate through all the columns of a dataframe and modify the data type\n",
    "        to reduce memory usage.        \n",
    "    \"\"\"\n",
    "    start_mem = df.memory_usage().sum() / 1024**2\n",
    "    print('Memory usage of dataframe is {:.2f} MB'.format(start_mem))\n",
    "    \n",
    "    for col in df.columns:\n",
    "        if is_datetime(df[col]) or is_categorical_dtype(df[col]):\n",
    "            # skip datetime type or categorical type\n",
    "            continue\n",
    "        col_type = df[col].dtype\n",
    "        \n",
    "        if col_type != object:\n",
    "            c_min = df[col].min()\n",
    "            c_max = df[col].max()\n",
    "            if str(col_type)[:3] == 'int':\n",
    "                if c_min > np.iinfo(np.int8).min and c_max < np.iinfo(np.int8).max:\n",
    "                    df[col] = df[col].astype(np.int8)\n",
    "                elif c_min > np.iinfo(np.int16).min and c_max < np.iinfo(np.int16).max:\n",
    "                    df[col] = df[col].astype(np.int16)\n",
    "                elif c_min > np.iinfo(np.int32).min and c_max < np.iinfo(np.int32).max:\n",
    "                    df[col] = df[col].astype(np.int32)\n",
    "                elif c_min > np.iinfo(np.int64).min and c_max < np.iinfo(np.int64).max:\n",
    "                    df[col] = df[col].astype(np.int64)  \n",
    "            else:\n",
    "                if use_float16 and c_min > np.finfo(np.float16).min and c_max < np.finfo(np.float16).max:\n",
    "                    df[col] = df[col].astype(np.float16)\n",
    "                elif c_min > np.finfo(np.float32).min and c_max < np.finfo(np.float32).max:\n",
    "                    df[col] = df[col].astype(np.float32)\n",
    "                else:\n",
    "                    df[col] = df[col].astype(np.float64)\n",
    "        else:\n",
    "            df[col] = df[col].astype('category')\n",
    "\n",
    "    end_mem = df.memory_usage().sum() / 1024**2\n",
    "    print('Memory usage after optimization is: {:.2f} MB'.format(end_mem))\n",
    "    print('Decreased by {:.1f}%'.format(100 * (start_mem - end_mem) / start_mem))\n",
    "    \n",
    "    return df"
   ]
  },
  {
   "cell_type": "code",
   "execution_count": 836,
   "metadata": {},
   "outputs": [],
   "source": [
    "root = Path('./')\n",
    "\n",
    "train_df = pd.read_csv(root/'train.csv')\n",
    "test_df = pd.read_csv(root/'test.csv')\n",
    "#weather_train_df = pd.read_feather(root/'weather_train.feather')\n",
    "#weather_test_df = pd.read_feather(root/'weather_test.feather')\n",
    "building_meta_df = pd.read_csv(root/'building_metadata.csv')"
   ]
  },
  {
   "cell_type": "code",
   "execution_count": 837,
   "metadata": {},
   "outputs": [
    {
     "data": {
      "text/html": [
       "<div>\n",
       "<style scoped>\n",
       "    .dataframe tbody tr th:only-of-type {\n",
       "        vertical-align: middle;\n",
       "    }\n",
       "\n",
       "    .dataframe tbody tr th {\n",
       "        vertical-align: top;\n",
       "    }\n",
       "\n",
       "    .dataframe thead th {\n",
       "        text-align: right;\n",
       "    }\n",
       "</style>\n",
       "<table border=\"1\" class=\"dataframe\">\n",
       "  <thead>\n",
       "    <tr style=\"text-align: right;\">\n",
       "      <th></th>\n",
       "      <th>building_id</th>\n",
       "      <th>meter</th>\n",
       "      <th>meter_reading</th>\n",
       "      <th>timestamp</th>\n",
       "    </tr>\n",
       "  </thead>\n",
       "  <tbody>\n",
       "    <tr>\n",
       "      <th>1076662</th>\n",
       "      <td>0</td>\n",
       "      <td>0.0</td>\n",
       "      <td>173.370293</td>\n",
       "      <td>2017-01-01</td>\n",
       "    </tr>\n",
       "    <tr>\n",
       "      <th>1076663</th>\n",
       "      <td>1</td>\n",
       "      <td>0.0</td>\n",
       "      <td>53.512720</td>\n",
       "      <td>2017-01-01</td>\n",
       "    </tr>\n",
       "    <tr>\n",
       "      <th>1076664</th>\n",
       "      <td>2</td>\n",
       "      <td>0.0</td>\n",
       "      <td>6.143042</td>\n",
       "      <td>2017-01-01</td>\n",
       "    </tr>\n",
       "    <tr>\n",
       "      <th>1076665</th>\n",
       "      <td>3</td>\n",
       "      <td>0.0</td>\n",
       "      <td>101.701470</td>\n",
       "      <td>2017-01-01</td>\n",
       "    </tr>\n",
       "    <tr>\n",
       "      <th>1076666</th>\n",
       "      <td>4</td>\n",
       "      <td>0.0</td>\n",
       "      <td>1141.240666</td>\n",
       "      <td>2017-01-01</td>\n",
       "    </tr>\n",
       "  </tbody>\n",
       "</table>\n",
       "</div>"
      ],
      "text/plain": [
       "         building_id  meter  meter_reading  timestamp\n",
       "1076662            0    0.0     173.370293 2017-01-01\n",
       "1076663            1    0.0      53.512720 2017-01-01\n",
       "1076664            2    0.0       6.143042 2017-01-01\n",
       "1076665            3    0.0     101.701470 2017-01-01\n",
       "1076666            4    0.0    1141.240666 2017-01-01"
      ]
     },
     "execution_count": 837,
     "metadata": {},
     "output_type": "execute_result"
    }
   ],
   "source": [
    "# i'm now using my leak data station kernel to shortcut.\n",
    "leak_df = pd.read_feather('./leak.feather')\n",
    "\n",
    "leak_df.fillna(0, inplace=True)\n",
    "leak_df = leak_df[(leak_df.timestamp.dt.year > 2016) & (leak_df.timestamp.dt.year < 2019)]\n",
    "leak_df.loc[leak_df.meter_reading < 0, 'meter_reading'] = 0 # remove large negative values\n",
    "leak_df = leak_df[leak_df.building_id!=245]\n",
    "\n",
    "leak_df.head(5)"
   ]
  },
  {
   "cell_type": "code",
   "execution_count": 838,
   "metadata": {},
   "outputs": [
    {
     "name": "stdout",
     "output_type": "stream",
     "text": [
      "0.5965531927523112\n"
     ]
    }
   ],
   "source": [
    "print (len(leak_df) / len(train_df))"
   ]
  },
  {
   "cell_type": "code",
   "execution_count": 839,
   "metadata": {},
   "outputs": [
    {
     "name": "stderr",
     "output_type": "stream",
     "text": [
      "/home/lwlw/anaconda3/lib/python3.7/site-packages/numpy/lib/arraysetops.py:568: FutureWarning:\n",
      "\n",
      "elementwise comparison failed; returning scalar instead, but in the future will perform elementwise comparison\n",
      "\n"
     ]
    }
   ],
   "source": [
    "sample_submission1 = pd.read_csv('./submission_1219_1078.csv', index_col=0)\n",
    "sample_submission2 = pd.read_csv('./KFold_lgb_108submission.csv', index_col=0)\n",
    "sample_submission3 = pd.read_csv('./submission_cleanup108.csv', index_col=0)\n",
    "sample_submission4 = pd.read_csv('./fe2_lgbm_107.csv', index_col=0)\n",
    "sample_submission5 = pd.read_csv('./12_15_new108.csv', index_col=0)\n",
    "sample_submission6 = pd.read_csv('./submission_1075.csv', index_col=0)"
   ]
  },
  {
   "cell_type": "code",
   "execution_count": 840,
   "metadata": {},
   "outputs": [
    {
     "name": "stdout",
     "output_type": "stream",
     "text": [
      "Memory usage of dataframe is 3181.27 MB\n",
      "Memory usage after optimization is: 1313.03 MB\n",
      "Decreased by 58.7%\n",
      "Memory usage of dataframe is 460.05 MB\n",
      "Memory usage after optimization is: 299.03 MB\n",
      "Decreased by 35.0%\n"
     ]
    }
   ],
   "source": [
    "test_df['pred1'] = sample_submission1.meter_reading\n",
    "test_df['pred2'] = sample_submission2.meter_reading\n",
    "test_df['pred3'] = sample_submission3.meter_reading\n",
    "test_df['pred4'] = sample_submission4.meter_reading\n",
    "test_df['pred5'] = sample_submission5.meter_reading\n",
    "test_df['pred6'] = sample_submission6.meter_reading\n",
    "\n",
    "test_df.loc[test_df.pred1<0, 'pred1'] = 0 \n",
    "test_df.loc[test_df.pred2<0, 'pred2'] = 0 \n",
    "test_df.loc[test_df.pred3<0, 'pred3'] = 0 \n",
    "test_df.loc[test_df.pred4<0, 'pred4'] = 0 \n",
    "test_df.loc[test_df.pred5<0, 'pred5'] = 0 \n",
    "test_df.loc[test_df.pred6<0, 'pred6'] = 0 \n",
    "\n",
    "del  sample_submission1,  sample_submission2,  sample_submission3, sample_submission4, sample_submission5, sample_submission6\n",
    "gc.collect()\n",
    "\n",
    "test_df = reduce_mem_usage(test_df)\n",
    "leak_df = reduce_mem_usage(leak_df)"
   ]
  },
  {
   "cell_type": "code",
   "execution_count": 841,
   "metadata": {},
   "outputs": [],
   "source": [
    "train_df['timestamp'] = pd.to_datetime(train_df['timestamp'])\n",
    "test_df['timestamp'] = pd.to_datetime(test_df['timestamp'])"
   ]
  },
  {
   "cell_type": "code",
   "execution_count": 842,
   "metadata": {},
   "outputs": [],
   "source": [
    "leak_df = leak_df.merge(test_df[['building_id', 'meter', 'timestamp', 'pred1', 'pred2', 'pred3', 'pred4', 'pred5',  'pred6', 'row_id']], left_on = ['building_id', 'meter', 'timestamp'], right_on = ['building_id', 'meter', 'timestamp'], how = \"left\")\n",
    "leak_df = leak_df.merge(building_meta_df[['building_id', 'site_id']], on='building_id', how='left')"
   ]
  },
  {
   "cell_type": "code",
   "execution_count": 843,
   "metadata": {},
   "outputs": [
    {
     "data": {
      "text/html": [
       "<div>\n",
       "<style scoped>\n",
       "    .dataframe tbody tr th:only-of-type {\n",
       "        vertical-align: middle;\n",
       "    }\n",
       "\n",
       "    .dataframe tbody tr th {\n",
       "        vertical-align: top;\n",
       "    }\n",
       "\n",
       "    .dataframe thead th {\n",
       "        text-align: right;\n",
       "    }\n",
       "</style>\n",
       "<table border=\"1\" class=\"dataframe\">\n",
       "  <thead>\n",
       "    <tr style=\"text-align: right;\">\n",
       "      <th></th>\n",
       "      <th>building_id</th>\n",
       "      <th>meter</th>\n",
       "      <th>meter_reading</th>\n",
       "      <th>timestamp</th>\n",
       "      <th>pred1</th>\n",
       "      <th>pred2</th>\n",
       "      <th>pred3</th>\n",
       "      <th>pred4</th>\n",
       "      <th>pred5</th>\n",
       "      <th>pred6</th>\n",
       "      <th>row_id</th>\n",
       "      <th>site_id</th>\n",
       "    </tr>\n",
       "  </thead>\n",
       "  <tbody>\n",
       "    <tr>\n",
       "      <th>0</th>\n",
       "      <td>0</td>\n",
       "      <td>0.0</td>\n",
       "      <td>173.370300</td>\n",
       "      <td>2017-01-01</td>\n",
       "      <td>175.095001</td>\n",
       "      <td>186.168106</td>\n",
       "      <td>179.624802</td>\n",
       "      <td>165.920151</td>\n",
       "      <td>180.764999</td>\n",
       "      <td>176.689713</td>\n",
       "      <td>0</td>\n",
       "      <td>0</td>\n",
       "    </tr>\n",
       "    <tr>\n",
       "      <th>1</th>\n",
       "      <td>1</td>\n",
       "      <td>0.0</td>\n",
       "      <td>53.512718</td>\n",
       "      <td>2017-01-01</td>\n",
       "      <td>76.195000</td>\n",
       "      <td>85.102570</td>\n",
       "      <td>75.862000</td>\n",
       "      <td>79.619476</td>\n",
       "      <td>76.824997</td>\n",
       "      <td>72.337158</td>\n",
       "      <td>1</td>\n",
       "      <td>0</td>\n",
       "    </tr>\n",
       "    <tr>\n",
       "      <th>2</th>\n",
       "      <td>2</td>\n",
       "      <td>0.0</td>\n",
       "      <td>6.143042</td>\n",
       "      <td>2017-01-01</td>\n",
       "      <td>10.310000</td>\n",
       "      <td>13.020658</td>\n",
       "      <td>6.988500</td>\n",
       "      <td>7.377504</td>\n",
       "      <td>11.780000</td>\n",
       "      <td>7.210805</td>\n",
       "      <td>2</td>\n",
       "      <td>0</td>\n",
       "    </tr>\n",
       "    <tr>\n",
       "      <th>3</th>\n",
       "      <td>3</td>\n",
       "      <td>0.0</td>\n",
       "      <td>101.701469</td>\n",
       "      <td>2017-01-01</td>\n",
       "      <td>219.125000</td>\n",
       "      <td>249.669037</td>\n",
       "      <td>305.971710</td>\n",
       "      <td>301.158051</td>\n",
       "      <td>210.294998</td>\n",
       "      <td>281.318298</td>\n",
       "      <td>3</td>\n",
       "      <td>0</td>\n",
       "    </tr>\n",
       "    <tr>\n",
       "      <th>4</th>\n",
       "      <td>4</td>\n",
       "      <td>0.0</td>\n",
       "      <td>1141.240723</td>\n",
       "      <td>2017-01-01</td>\n",
       "      <td>983.400024</td>\n",
       "      <td>1130.942383</td>\n",
       "      <td>1408.412231</td>\n",
       "      <td>1342.144531</td>\n",
       "      <td>986.375000</td>\n",
       "      <td>1320.123535</td>\n",
       "      <td>4</td>\n",
       "      <td>0</td>\n",
       "    </tr>\n",
       "  </tbody>\n",
       "</table>\n",
       "</div>"
      ],
      "text/plain": [
       "   building_id  meter  meter_reading  timestamp       pred1        pred2  \\\n",
       "0            0    0.0     173.370300 2017-01-01  175.095001   186.168106   \n",
       "1            1    0.0      53.512718 2017-01-01   76.195000    85.102570   \n",
       "2            2    0.0       6.143042 2017-01-01   10.310000    13.020658   \n",
       "3            3    0.0     101.701469 2017-01-01  219.125000   249.669037   \n",
       "4            4    0.0    1141.240723 2017-01-01  983.400024  1130.942383   \n",
       "\n",
       "         pred3        pred4       pred5        pred6  row_id  site_id  \n",
       "0   179.624802   165.920151  180.764999   176.689713       0        0  \n",
       "1    75.862000    79.619476   76.824997    72.337158       1        0  \n",
       "2     6.988500     7.377504   11.780000     7.210805       2        0  \n",
       "3   305.971710   301.158051  210.294998   281.318298       3        0  \n",
       "4  1408.412231  1342.144531  986.375000  1320.123535       4        0  "
      ]
     },
     "execution_count": 843,
     "metadata": {},
     "output_type": "execute_result"
    }
   ],
   "source": [
    "leak_df.head(5)"
   ]
  },
  {
   "cell_type": "code",
   "execution_count": 844,
   "metadata": {},
   "outputs": [],
   "source": [
    "leak_df['pred1_l1p'] = np.log1p(leak_df.pred1)\n",
    "leak_df['pred2_l1p'] = np.log1p(leak_df.pred2)\n",
    "leak_df['pred3_l1p'] = np.log1p(leak_df.pred3)\n",
    "leak_df['pred4_l1p'] = np.log1p(leak_df.pred4)\n",
    "leak_df['pred5_l1p'] = np.log1p(leak_df.pred5)\n",
    "leak_df['pred6_l1p'] = np.log1p(leak_df.pred6)\n",
    "leak_df['meter_reading_l1p'] = np.log1p(leak_df.meter_reading)"
   ]
  },
  {
   "cell_type": "code",
   "execution_count": 845,
   "metadata": {},
   "outputs": [
    {
     "data": {
      "text/html": [
       "<div>\n",
       "<style scoped>\n",
       "    .dataframe tbody tr th:only-of-type {\n",
       "        vertical-align: middle;\n",
       "    }\n",
       "\n",
       "    .dataframe tbody tr th {\n",
       "        vertical-align: top;\n",
       "    }\n",
       "\n",
       "    .dataframe thead th {\n",
       "        text-align: right;\n",
       "    }\n",
       "</style>\n",
       "<table border=\"1\" class=\"dataframe\">\n",
       "  <thead>\n",
       "    <tr style=\"text-align: right;\">\n",
       "      <th></th>\n",
       "      <th>building_id</th>\n",
       "      <th>meter</th>\n",
       "      <th>meter_reading</th>\n",
       "      <th>timestamp</th>\n",
       "      <th>pred1</th>\n",
       "      <th>pred2</th>\n",
       "      <th>pred3</th>\n",
       "      <th>pred4</th>\n",
       "      <th>pred5</th>\n",
       "      <th>pred6</th>\n",
       "      <th>row_id</th>\n",
       "      <th>site_id</th>\n",
       "      <th>pred1_l1p</th>\n",
       "      <th>pred2_l1p</th>\n",
       "      <th>pred3_l1p</th>\n",
       "      <th>pred4_l1p</th>\n",
       "      <th>pred5_l1p</th>\n",
       "      <th>pred6_l1p</th>\n",
       "      <th>meter_reading_l1p</th>\n",
       "    </tr>\n",
       "  </thead>\n",
       "  <tbody>\n",
       "    <tr>\n",
       "      <th>0</th>\n",
       "      <td>0</td>\n",
       "      <td>0.0</td>\n",
       "      <td>173.370300</td>\n",
       "      <td>2017-01-01</td>\n",
       "      <td>175.095001</td>\n",
       "      <td>186.168106</td>\n",
       "      <td>179.624802</td>\n",
       "      <td>165.920151</td>\n",
       "      <td>180.764999</td>\n",
       "      <td>176.689713</td>\n",
       "      <td>0</td>\n",
       "      <td>0</td>\n",
       "      <td>5.171024</td>\n",
       "      <td>5.232007</td>\n",
       "      <td>5.196422</td>\n",
       "      <td>5.117516</td>\n",
       "      <td>5.202714</td>\n",
       "      <td>5.180039</td>\n",
       "      <td>5.161181</td>\n",
       "    </tr>\n",
       "    <tr>\n",
       "      <th>1</th>\n",
       "      <td>1</td>\n",
       "      <td>0.0</td>\n",
       "      <td>53.512718</td>\n",
       "      <td>2017-01-01</td>\n",
       "      <td>76.195000</td>\n",
       "      <td>85.102570</td>\n",
       "      <td>75.862000</td>\n",
       "      <td>79.619476</td>\n",
       "      <td>76.824997</td>\n",
       "      <td>72.337158</td>\n",
       "      <td>1</td>\n",
       "      <td>0</td>\n",
       "      <td>4.346334</td>\n",
       "      <td>4.455539</td>\n",
       "      <td>4.342011</td>\n",
       "      <td>4.389740</td>\n",
       "      <td>4.354463</td>\n",
       "      <td>4.295067</td>\n",
       "      <td>3.998434</td>\n",
       "    </tr>\n",
       "    <tr>\n",
       "      <th>2</th>\n",
       "      <td>2</td>\n",
       "      <td>0.0</td>\n",
       "      <td>6.143042</td>\n",
       "      <td>2017-01-01</td>\n",
       "      <td>10.310000</td>\n",
       "      <td>13.020658</td>\n",
       "      <td>6.988500</td>\n",
       "      <td>7.377504</td>\n",
       "      <td>11.780000</td>\n",
       "      <td>7.210805</td>\n",
       "      <td>2</td>\n",
       "      <td>0</td>\n",
       "      <td>2.425687</td>\n",
       "      <td>2.640532</td>\n",
       "      <td>2.078003</td>\n",
       "      <td>2.125550</td>\n",
       "      <td>2.547881</td>\n",
       "      <td>2.105451</td>\n",
       "      <td>1.966139</td>\n",
       "    </tr>\n",
       "    <tr>\n",
       "      <th>3</th>\n",
       "      <td>3</td>\n",
       "      <td>0.0</td>\n",
       "      <td>101.701469</td>\n",
       "      <td>2017-01-01</td>\n",
       "      <td>219.125000</td>\n",
       "      <td>249.669037</td>\n",
       "      <td>305.971710</td>\n",
       "      <td>301.158051</td>\n",
       "      <td>210.294998</td>\n",
       "      <td>281.318298</td>\n",
       "      <td>3</td>\n",
       "      <td>0</td>\n",
       "      <td>5.394196</td>\n",
       "      <td>5.524134</td>\n",
       "      <td>5.726756</td>\n",
       "      <td>5.710950</td>\n",
       "      <td>5.353255</td>\n",
       "      <td>5.643035</td>\n",
       "      <td>4.631826</td>\n",
       "    </tr>\n",
       "    <tr>\n",
       "      <th>4</th>\n",
       "      <td>4</td>\n",
       "      <td>0.0</td>\n",
       "      <td>1141.240723</td>\n",
       "      <td>2017-01-01</td>\n",
       "      <td>983.400024</td>\n",
       "      <td>1130.942383</td>\n",
       "      <td>1408.412231</td>\n",
       "      <td>1342.144531</td>\n",
       "      <td>986.375000</td>\n",
       "      <td>1320.123535</td>\n",
       "      <td>4</td>\n",
       "      <td>0</td>\n",
       "      <td>6.892032</td>\n",
       "      <td>7.031691</td>\n",
       "      <td>7.250928</td>\n",
       "      <td>7.202769</td>\n",
       "      <td>6.895050</td>\n",
       "      <td>7.186238</td>\n",
       "      <td>7.040747</td>\n",
       "    </tr>\n",
       "  </tbody>\n",
       "</table>\n",
       "</div>"
      ],
      "text/plain": [
       "   building_id  meter  meter_reading  timestamp       pred1        pred2  \\\n",
       "0            0    0.0     173.370300 2017-01-01  175.095001   186.168106   \n",
       "1            1    0.0      53.512718 2017-01-01   76.195000    85.102570   \n",
       "2            2    0.0       6.143042 2017-01-01   10.310000    13.020658   \n",
       "3            3    0.0     101.701469 2017-01-01  219.125000   249.669037   \n",
       "4            4    0.0    1141.240723 2017-01-01  983.400024  1130.942383   \n",
       "\n",
       "         pred3        pred4       pred5        pred6  row_id  site_id  \\\n",
       "0   179.624802   165.920151  180.764999   176.689713       0        0   \n",
       "1    75.862000    79.619476   76.824997    72.337158       1        0   \n",
       "2     6.988500     7.377504   11.780000     7.210805       2        0   \n",
       "3   305.971710   301.158051  210.294998   281.318298       3        0   \n",
       "4  1408.412231  1342.144531  986.375000  1320.123535       4        0   \n",
       "\n",
       "   pred1_l1p  pred2_l1p  pred3_l1p  pred4_l1p  pred5_l1p  pred6_l1p  \\\n",
       "0   5.171024   5.232007   5.196422   5.117516   5.202714   5.180039   \n",
       "1   4.346334   4.455539   4.342011   4.389740   4.354463   4.295067   \n",
       "2   2.425687   2.640532   2.078003   2.125550   2.547881   2.105451   \n",
       "3   5.394196   5.524134   5.726756   5.710950   5.353255   5.643035   \n",
       "4   6.892032   7.031691   7.250928   7.202769   6.895050   7.186238   \n",
       "\n",
       "   meter_reading_l1p  \n",
       "0           5.161181  \n",
       "1           3.998434  \n",
       "2           1.966139  \n",
       "3           4.631826  \n",
       "4           7.040747  "
      ]
     },
     "execution_count": 845,
     "metadata": {},
     "output_type": "execute_result"
    }
   ],
   "source": [
    "leak_df.head(5)"
   ]
  },
  {
   "cell_type": "code",
   "execution_count": 846,
   "metadata": {},
   "outputs": [
    {
     "data": {
      "text/html": [
       "<div>\n",
       "<style scoped>\n",
       "    .dataframe tbody tr th:only-of-type {\n",
       "        vertical-align: middle;\n",
       "    }\n",
       "\n",
       "    .dataframe tbody tr th {\n",
       "        vertical-align: top;\n",
       "    }\n",
       "\n",
       "    .dataframe thead th {\n",
       "        text-align: right;\n",
       "    }\n",
       "</style>\n",
       "<table border=\"1\" class=\"dataframe\">\n",
       "  <thead>\n",
       "    <tr style=\"text-align: right;\">\n",
       "      <th></th>\n",
       "      <th>building_id</th>\n",
       "      <th>meter</th>\n",
       "      <th>meter_reading</th>\n",
       "      <th>timestamp</th>\n",
       "      <th>pred1</th>\n",
       "      <th>pred2</th>\n",
       "      <th>pred3</th>\n",
       "      <th>pred4</th>\n",
       "      <th>pred5</th>\n",
       "      <th>pred6</th>\n",
       "      <th>row_id</th>\n",
       "      <th>site_id</th>\n",
       "      <th>pred1_l1p</th>\n",
       "      <th>pred2_l1p</th>\n",
       "      <th>pred3_l1p</th>\n",
       "      <th>pred4_l1p</th>\n",
       "      <th>pred5_l1p</th>\n",
       "      <th>pred6_l1p</th>\n",
       "      <th>meter_reading_l1p</th>\n",
       "    </tr>\n",
       "  </thead>\n",
       "  <tbody>\n",
       "  </tbody>\n",
       "</table>\n",
       "</div>"
      ],
      "text/plain": [
       "Empty DataFrame\n",
       "Columns: [building_id, meter, meter_reading, timestamp, pred1, pred2, pred3, pred4, pred5, pred6, row_id, site_id, pred1_l1p, pred2_l1p, pred3_l1p, pred4_l1p, pred5_l1p, pred6_l1p, meter_reading_l1p]\n",
       "Index: []"
      ]
     },
     "execution_count": 846,
     "metadata": {},
     "output_type": "execute_result"
    }
   ],
   "source": [
    "leak_df[leak_df.pred1_l1p.isnull()]"
   ]
  },
  {
   "cell_type": "code",
   "execution_count": 712,
   "metadata": {},
   "outputs": [
    {
     "name": "stdout",
     "output_type": "stream",
     "text": [
      "score1= 0.9862738\n"
     ]
    },
    {
     "data": {
      "image/png": "[encoded data removed]",
      "text/plain": [
       "<Figure size 432x288 with 1 Axes>"
      ]
     },
     "metadata": {
      "needs_background": "light"
     },
     "output_type": "display_data"
    }
   ],
   "source": [
    "#ashrae-kfold-lightgbm-without-leak-1-08\n",
    "sns.distplot(leak_df.pred1_l1p)\n",
    "sns.distplot(leak_df.meter_reading_l1p)\n",
    "\n",
    "leak_score = np.sqrt(mean_squared_error(leak_df.pred1_l1p, leak_df.meter_reading_l1p))\n",
    "print ('score1=', leak_score)"
   ]
  },
  {
   "cell_type": "code",
   "execution_count": 581,
   "metadata": {},
   "outputs": [
    {
     "name": "stdout",
     "output_type": "stream",
     "text": [
      "score2= 0.985471\n"
     ]
    },
    {
     "data": {
      "image/png": "[encoded data removed]",
      "text/plain": [
       "<Figure size 432x288 with 1 Axes>"
      ]
     },
     "metadata": {
      "needs_background": "light"
     },
     "output_type": "display_data"
    }
   ],
   "source": [
    "sns.distplot(leak_df.pred2_l1p)\n",
    "sns.distplot(leak_df.meter_reading_l1p)\n",
    "\n",
    "leak_score = np.sqrt(mean_squared_error(leak_df.pred2_l1p, leak_df.meter_reading_l1p))\n",
    "print ('score2=', leak_score)"
   ]
  },
  {
   "cell_type": "code",
   "execution_count": 331,
   "metadata": {},
   "outputs": [
    {
     "name": "stdout",
     "output_type": "stream",
     "text": [
      "score3= 0.9941885\n"
     ]
    },
    {
     "data": {
      "image/png": "[encoded data removed]",
      "text/plain": [
       "<Figure size 432x288 with 1 Axes>"
      ]
     },
     "metadata": {
      "needs_background": "light"
     },
     "output_type": "display_data"
    }
   ],
   "source": [
    "sns.distplot(leak_df.pred3_l1p)\n",
    "sns.distplot(leak_df.meter_reading_l1p)\n",
    "\n",
    "leak_score = np.sqrt(mean_squared_error(leak_df.pred3_l1p, leak_df.meter_reading_l1p))\n",
    "print ('score3=', leak_score)"
   ]
  },
  {
   "cell_type": "code",
   "execution_count": 582,
   "metadata": {},
   "outputs": [
    {
     "name": "stdout",
     "output_type": "stream",
     "text": [
      "score4= 0.9748973\n"
     ]
    },
    {
     "data": {
      "image/png": "[encoded data removed]",
      "text/plain": [
       "<Figure size 432x288 with 1 Axes>"
      ]
     },
     "metadata": {
      "needs_background": "light"
     },
     "output_type": "display_data"
    }
   ],
   "source": [
    "sns.distplot(leak_df.pred4_l1p)\n",
    "sns.distplot(leak_df.meter_reading_l1p)\n",
    "\n",
    "leak_score = np.sqrt(mean_squared_error(leak_df.pred4_l1p, leak_df.meter_reading_l1p))\n",
    "print ('score4=', leak_score)"
   ]
  },
  {
   "cell_type": "code",
   "execution_count": 583,
   "metadata": {
    "scrolled": true
   },
   "outputs": [
    {
     "name": "stdout",
     "output_type": "stream",
     "text": [
      "score1= 0.98911035\n"
     ]
    },
    {
     "data": {
      "image/png": "[encoded data removed]",
      "text/plain": [
       "<Figure size 432x288 with 1 Axes>"
      ]
     },
     "metadata": {
      "needs_background": "light"
     },
     "output_type": "display_data"
    }
   ],
   "source": [
    "sns.distplot(leak_df.pred5_l1p)\n",
    "sns.distplot(leak_df.meter_reading_l1p)\n",
    "\n",
    "leak_score = np.sqrt(mean_squared_error(leak_df.pred5_l1p, leak_df.meter_reading_l1p))\n",
    "print ('score1=', leak_score)"
   ]
  },
  {
   "cell_type": "code",
   "execution_count": 584,
   "metadata": {},
   "outputs": [
    {
     "name": "stdout",
     "output_type": "stream",
     "text": [
      "score1= 0.9736784\n"
     ]
    },
    {
     "data": {
      "image/png": "[encoded data removed]",
      "text/plain": [
       "<Figure size 432x288 with 1 Axes>"
      ]
     },
     "metadata": {
      "needs_background": "light"
     },
     "output_type": "display_data"
    }
   ],
   "source": [
    "sns.distplot(leak_df.pred6_l1p)\n",
    "sns.distplot(leak_df.meter_reading_l1p)\n",
    "\n",
    "leak_score = np.sqrt(mean_squared_error(leak_df.pred6_l1p, leak_df.meter_reading_l1p))\n",
    "print ('score1=', leak_score)"
   ]
  },
  {
   "cell_type": "code",
   "execution_count": 847,
   "metadata": {},
   "outputs": [
    {
     "name": "stdout",
     "output_type": "stream",
     "text": [
      "score= 0.9561314\n"
     ]
    }
   ],
   "source": [
    "v = 0.43 *  leak_df['pred4'].values + 0.18 * leak_df['pred1'].values  + 0.15 * leak_df['pred2'].values +  0.153 * leak_df['pred5'].values   #0.952\n",
    "vl1p = np.log1p(v)\n",
    "curr_score = np.sqrt(mean_squared_error(vl1p, leak_df.meter_reading_l1p))\n",
    "\n",
    "print ('score=', curr_score)"
   ]
  },
  {
   "cell_type": "code",
   "execution_count": 848,
   "metadata": {},
   "outputs": [],
   "source": [
    "sample_submission = pd.read_csv(os.path.join(root, 'sample_submission.csv'))\n",
    "\n",
    "sample_submission['meter_reading'] = 0.43 * test_df.pred4 + 0.18 * test_df.pred1 + 0.15 * test_df.pred2 + 0.153 * test_df.pred5.values\n",
    "sample_submission.loc[sample_submission.meter_reading < 0, 'meter_reading'] = 0"
   ]
  },
  {
   "cell_type": "code",
   "execution_count": 849,
   "metadata": {},
   "outputs": [
    {
     "data": {
      "text/html": [
       "<div>\n",
       "<style scoped>\n",
       "    .dataframe tbody tr th:only-of-type {\n",
       "        vertical-align: middle;\n",
       "    }\n",
       "\n",
       "    .dataframe tbody tr th {\n",
       "        vertical-align: top;\n",
       "    }\n",
       "\n",
       "    .dataframe thead th {\n",
       "        text-align: right;\n",
       "    }\n",
       "</style>\n",
       "<table border=\"1\" class=\"dataframe\">\n",
       "  <thead>\n",
       "    <tr style=\"text-align: right;\">\n",
       "      <th></th>\n",
       "      <th>row_id</th>\n",
       "      <th>meter_reading</th>\n",
       "    </tr>\n",
       "  </thead>\n",
       "  <tbody>\n",
       "    <tr>\n",
       "      <th>0</th>\n",
       "      <td>0</td>\n",
       "      <td>158.445024</td>\n",
       "    </tr>\n",
       "    <tr>\n",
       "      <th>1</th>\n",
       "      <td>1</td>\n",
       "      <td>72.471085</td>\n",
       "    </tr>\n",
       "    <tr>\n",
       "      <th>2</th>\n",
       "      <td>2</td>\n",
       "      <td>8.783565</td>\n",
       "    </tr>\n",
       "    <tr>\n",
       "      <th>3</th>\n",
       "      <td>3</td>\n",
       "      <td>238.565950</td>\n",
       "    </tr>\n",
       "    <tr>\n",
       "      <th>4</th>\n",
       "      <td>4</td>\n",
       "      <td>1074.690885</td>\n",
       "    </tr>\n",
       "  </tbody>\n",
       "</table>\n",
       "</div>"
      ],
      "text/plain": [
       "   row_id  meter_reading\n",
       "0       0     158.445024\n",
       "1       1      72.471085\n",
       "2       2       8.783565\n",
       "3       3     238.565950\n",
       "4       4    1074.690885"
      ]
     },
     "execution_count": 849,
     "metadata": {},
     "output_type": "execute_result"
    }
   ],
   "source": [
    "sample_submission.head()"
   ]
  },
  {
   "cell_type": "code",
   "execution_count": 756,
   "metadata": {},
   "outputs": [
    {
     "data": {
      "text/plain": [
       "<matplotlib.axes._subplots.AxesSubplot at 0x2aab491262e8>"
      ]
     },
     "execution_count": 756,
     "metadata": {},
     "output_type": "execute_result"
    },
    {
     "data": {
      "image/png": "[encoded data removed]",
      "text/plain": [
       "<Figure size 432x288 with 1 Axes>"
      ]
     },
     "metadata": {
      "needs_background": "light"
     },
     "output_type": "display_data"
    }
   ],
   "source": [
    "sns.distplot(np.log1p(sample_submission.meter_reading))"
   ]
  },
  {
   "cell_type": "code",
   "execution_count": 850,
   "metadata": {},
   "outputs": [],
   "source": [
    "leak_df = leak_df[['meter_reading', 'row_id']].set_index('row_id').dropna()\n",
    "sample_submission.loc[leak_df.index, 'meter_reading'] = leak_df['meter_reading']"
   ]
  },
  {
   "cell_type": "code",
   "execution_count": 851,
   "metadata": {},
   "outputs": [
    {
     "data": {
      "text/html": [
       "<div>\n",
       "<style scoped>\n",
       "    .dataframe tbody tr th:only-of-type {\n",
       "        vertical-align: middle;\n",
       "    }\n",
       "\n",
       "    .dataframe tbody tr th {\n",
       "        vertical-align: top;\n",
       "    }\n",
       "\n",
       "    .dataframe thead th {\n",
       "        text-align: right;\n",
       "    }\n",
       "</style>\n",
       "<table border=\"1\" class=\"dataframe\">\n",
       "  <thead>\n",
       "    <tr style=\"text-align: right;\">\n",
       "      <th></th>\n",
       "      <th>row_id</th>\n",
       "      <th>meter_reading</th>\n",
       "    </tr>\n",
       "  </thead>\n",
       "  <tbody>\n",
       "    <tr>\n",
       "      <th>0</th>\n",
       "      <td>0</td>\n",
       "      <td>173.370300</td>\n",
       "    </tr>\n",
       "    <tr>\n",
       "      <th>1</th>\n",
       "      <td>1</td>\n",
       "      <td>53.512718</td>\n",
       "    </tr>\n",
       "    <tr>\n",
       "      <th>2</th>\n",
       "      <td>2</td>\n",
       "      <td>6.143042</td>\n",
       "    </tr>\n",
       "    <tr>\n",
       "      <th>3</th>\n",
       "      <td>3</td>\n",
       "      <td>101.701469</td>\n",
       "    </tr>\n",
       "    <tr>\n",
       "      <th>4</th>\n",
       "      <td>4</td>\n",
       "      <td>1141.240723</td>\n",
       "    </tr>\n",
       "  </tbody>\n",
       "</table>\n",
       "</div>"
      ],
      "text/plain": [
       "   row_id  meter_reading\n",
       "0       0     173.370300\n",
       "1       1      53.512718\n",
       "2       2       6.143042\n",
       "3       3     101.701469\n",
       "4       4    1141.240723"
      ]
     },
     "execution_count": 851,
     "metadata": {},
     "output_type": "execute_result"
    }
   ],
   "source": [
    "sample_submission.head(5)"
   ]
  },
  {
   "cell_type": "code",
   "execution_count": 852,
   "metadata": {},
   "outputs": [],
   "source": [
    "sample_submission.to_csv('submission_1219_02.csv', index=False, float_format='%.6f')"
   ]
  },
  {
   "cell_type": "code",
   "execution_count": null,
   "metadata": {},
   "outputs": [],
   "source": []
  }
 ],
 "metadata": {
  "kernelspec": {
   "display_name": "Python 3",
   "language": "python",
   "name": "python3"
  },
  "language_info": {
   "codemirror_mode": {
    "name": "ipython",
    "version": 3
   },
   "file_extension": ".py",
   "mimetype": "text/x-python",
   "name": "python",
   "nbconvert_exporter": "python",
   "pygments_lexer": "ipython3",
   "version": "3.7.3"
  }
 },
 "nbformat": 4,
 "nbformat_minor": 2
}
